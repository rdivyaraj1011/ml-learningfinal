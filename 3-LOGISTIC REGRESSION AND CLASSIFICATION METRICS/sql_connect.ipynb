{
 "cells": [
  {
   "cell_type": "code",
   "execution_count": 1,
   "metadata": {},
   "outputs": [],
   "source": [
    "# CREATE TABLE Employees (\n",
    "#     EmployeeID INT PRIMARY KEY,\n",
    "#     FirstName VARCHAR(50),\n",
    "#     LastName VARCHAR(50),\n",
    "#     Age INT,\n",
    "#     Department VARCHAR(50)\n",
    "\n",
    "\n",
    "# INSERT INTO Employees (EmployeeID, FirstName, LastName, Age, Department) VALUES\n",
    "# (1, 'John', 'Doe', 30, 'HR'),\n",
    "# (2, 'Jane', 'Smith', 25, 'IT'),\n",
    "# (3, 'Emily', 'Johnson', 35, 'Finance'),\n",
    "# (4, 'Michael', 'Williams', 28, 'Marketing'),\n",
    "# (5, 'Sarah', 'Brown', 40, 'Sales');\n",
    "\n",
    "# SELECT * FROM Employees;  \n"
   ]
  },
  {
   "cell_type": "code",
   "execution_count": 2,
   "metadata": {},
   "outputs": [],
   "source": [
    "# !pip install pandas mysql-connector-python"
   ]
  },
  {
   "cell_type": "code",
   "execution_count": 4,
   "metadata": {},
   "outputs": [
    {
     "name": "stdout",
     "output_type": "stream",
     "text": [
      "   EmployeeID FirstName  LastName  Age Department\n",
      "0           1      John       Doe   30         HR\n",
      "1           2      Jane     Smith   25         IT\n",
      "2           3     Emily   Johnson   35    Finance\n",
      "3           4   Michael  Williams   28  Marketing\n",
      "4           5     Sarah     Brown   40      Sales\n"
     ]
    }
   ],
   "source": [
    "import pandas as pd\n",
    "import mysql.connector\n",
    "import warnings\n",
    "\n",
    "# Suppress warnings\n",
    "warnings.filterwarnings(\"ignore\")\n",
    "# Establish the database connection\n",
    "connection = mysql.connector.connect(\n",
    "    host='localhost',        # e.g., 'localhost' or your database server address\n",
    "    user='root',    # your database username\n",
    "    password='1234', # your database password\n",
    "    database='test'          # your schema name\n",
    ")\n",
    "\n",
    "# Query to select all data from Employees table\n",
    "query = \"SELECT * FROM Employees;\"\n",
    "\n",
    "# Use pandas to read the table into a DataFrame\n",
    "df = pd.read_sql(query, connection)\n",
    "\n",
    "# Close the database connection\n",
    "connection.close()\n",
    "\n",
    "# Display the DataFrame\n",
    "print(df)\n"
   ]
  },
  {
   "cell_type": "code",
   "execution_count": null,
   "metadata": {},
   "outputs": [],
   "source": []
  }
 ],
 "metadata": {
  "kernelspec": {
   "display_name": "env",
   "language": "python",
   "name": "python3"
  },
  "language_info": {
   "codemirror_mode": {
    "name": "ipython",
    "version": 3
   },
   "file_extension": ".py",
   "mimetype": "text/x-python",
   "name": "python",
   "nbconvert_exporter": "python",
   "pygments_lexer": "ipython3",
   "version": "3.11.9"
  }
 },
 "nbformat": 4,
 "nbformat_minor": 2
}
