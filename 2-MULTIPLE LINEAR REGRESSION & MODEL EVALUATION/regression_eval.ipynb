{
 "cells": [
  {
   "cell_type": "markdown",
   "metadata": {},
   "source": [
    "MAE, MSE , RMSE - Regression Metrics"
   ]
  },
  {
   "cell_type": "code",
   "execution_count": 1,
   "metadata": {},
   "outputs": [],
   "source": [
    "import numpy as np\n",
    "from sklearn.metrics import mean_absolute_error, mean_squared_error\n"
   ]
  },
  {
   "cell_type": "code",
   "execution_count": 2,
   "metadata": {},
   "outputs": [],
   "source": [
    "Actual_Prices= [200, 300, 400, 500, 600]\n",
    "Predicted_Prices = [220, 280, 380, 520, 590]"
   ]
  },
  {
   "cell_type": "code",
   "execution_count": 3,
   "metadata": {},
   "outputs": [
    {
     "name": "stdout",
     "output_type": "stream",
     "text": [
      "Mean Absolute Error (MAE): 18.0\n",
      "Mean Squared Error (MSE): 340.0\n",
      "Root Mean Squared Error (RMSE): 18.439088914585774\n"
     ]
    }
   ],
   "source": [
    "# Calculate MAE\n",
    "mae = mean_absolute_error(Actual_Prices, Predicted_Prices)\n",
    "print(f\"Mean Absolute Error (MAE): {mae}\")\n",
    "\n",
    "# Calculate MSE\n",
    "mse = mean_squared_error(Actual_Prices, Predicted_Prices)\n",
    "print(f\"Mean Squared Error (MSE): {mse}\")\n",
    "\n",
    "# Calculate RMSE\n",
    "rmse = np.sqrt(mse)\n",
    "print(f\"Root Mean Squared Error (RMSE): {rmse}\")"
   ]
  },
  {
   "cell_type": "markdown",
   "metadata": {},
   "source": [
    "CALCULATION"
   ]
  },
  {
   "cell_type": "code",
   "execution_count": 4,
   "metadata": {},
   "outputs": [],
   "source": [
    "# Mean Absolute Error (MAE):\n",
    "\n",
    "# Calculate the absolute differences:\n",
    "\n",
    "# ∣200−220∣=20\n",
    "# ∣300−280∣=20\n",
    "# ∣400−380∣=20\n",
    "# ∣500−520∣=20\n",
    "# ∣600−590∣=10\n",
    "\n",
    "# Sum of absolute differences:\n",
    "# 20+20+20+20+10=90\n",
    "\n",
    "# Number of observations (𝑛) is 5.\n",
    "# MAE = 90 /5 = 18"
   ]
  },
  {
   "cell_type": "code",
   "execution_count": 5,
   "metadata": {},
   "outputs": [],
   "source": [
    "# Mean Squared Error (MSE):\n",
    "\n",
    "# Calculate the squared differences:\n",
    "\n",
    "# (200−220) ^ 2 =400\n",
    "# (300−280) ^ 2 =400\n",
    "# (400−380) ^ 2 =400\n",
    "# (500−520) ^ 2 =400\n",
    "# (600−590) ^ 2 =100\n",
    " \n",
    "# Sum of squared differences:\n",
    "\n",
    "# 400+400+400+400+100 = 1700\n",
    "\n",
    "# MSE = 1700 / 5 = 340"
   ]
  },
  {
   "cell_type": "code",
   "execution_count": 6,
   "metadata": {},
   "outputs": [],
   "source": [
    "# Root Mean Squared Error (RMSE):\n",
    "\n",
    "# RMSE= root of (340)  ≈18.44"
   ]
  },
  {
   "cell_type": "code",
   "execution_count": null,
   "metadata": {},
   "outputs": [],
   "source": []
  }
 ],
 "metadata": {
  "kernelspec": {
   "display_name": "pin",
   "language": "python",
   "name": "python3"
  },
  "language_info": {
   "codemirror_mode": {
    "name": "ipython",
    "version": 3
   },
   "file_extension": ".py",
   "mimetype": "text/x-python",
   "name": "python",
   "nbconvert_exporter": "python",
   "pygments_lexer": "ipython3",
   "version": "3.12.5"
  }
 },
 "nbformat": 4,
 "nbformat_minor": 2
}
